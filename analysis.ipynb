{
 "cells": [
  {
   "cell_type": "code",
   "execution_count": 2,
   "metadata": {},
   "outputs": [],
   "source": [
    "import json\n",
    "import matplotlib.pyplot as plt\n",
    "import numpy as np\n",
    "import os\n",
    "import pandas as pd\n",
    "import seaborn as sns\n",
    "import sys"
   ]
  },
  {
   "cell_type": "markdown",
   "metadata": {},
   "source": [
    "## Global Variables"
   ]
  },
  {
   "cell_type": "code",
   "execution_count": 3,
   "metadata": {},
   "outputs": [],
   "source": [
    "data_path = '../BM-Experiment-raspi-configs/'\n",
    "devices = ['Pixel3-W', 'GalaxyJ7-W', 'Nexus5X-W', 'NokiaLong-W', 'NokiaRound-W']\n",
    "batch_dict = json.load(open('batches.json', 'r'))\n"
   ]
  },
  {
   "cell_type": "code",
   "execution_count": 4,
   "metadata": {},
   "outputs": [
    {
     "data": {
      "text/plain": [
       "{'batch1': {'apps': ['Camera High Frequency',\n",
       "   'Cpu Medium Frequency',\n",
       "   'GPS Low Frequency',\n",
       "   'Local Storage High Frequency',\n",
       "   'Networking Medium Frequency'],\n",
       "  'folder_names': ['e-www-cameratest',\n",
       "   'e-www-cpufactorialtest',\n",
       "   'e-www-gpstest',\n",
       "   'e-www-writelocaltest',\n",
       "   'e-www-httpsrequesttest']},\n",
       " 'batch2': {'apps': ['Camera Medium Frequency',\n",
       "   'Cpu Low Frequency',\n",
       "   'GPS High Frequency',\n",
       "   'Local Storage Medium Frequency',\n",
       "   'Networking Low Frequency'],\n",
       "  'folder_names': ['e-www-cameratest',\n",
       "   'e-www-cpufactorialtest',\n",
       "   'e-www-gpstest',\n",
       "   'e-www-writelocaltest',\n",
       "   'e-www-httpsrequesttest']},\n",
       " 'batch3': {'apps': ['Camera Low Frequency',\n",
       "   'Cpu High Frequency',\n",
       "   'GPS Medium Frequency',\n",
       "   'Local Storage Low Frequency',\n",
       "   'Networking High Frequency'],\n",
       "  'folder_names': ['e-www-cameratest',\n",
       "   'e-www-cpufactorialtest',\n",
       "   'e-www-gpstest',\n",
       "   'e-www-writelocaltest',\n",
       "   'e-www-httpsrequesttest']},\n",
       " 'batch4': {'apps': ['Room Database High Frequency',\n",
       "   'Accelerometer',\n",
       "   'Speaker',\n",
       "   'Ambient Light',\n",
       "   'Microphone'],\n",
       "  'folder_names': ['e-www-writeroomtest',\n",
       "   'e-www-accelerometertest',\n",
       "   'e-www-speakertest',\n",
       "   'e-www-ambientlighttest',\n",
       "   'e-www-microphonetest']},\n",
       " 'batch5': {'apps': ['Room Database Medium Frequency',\n",
       "   'Baseline',\n",
       "   'Magnetic Field',\n",
       "   'Display',\n",
       "   'Gyroscope'],\n",
       "  'folder_names': ['e-www-writeroomtest',\n",
       "   'e-www-baseline',\n",
       "   'e-www-magneticfieldtest',\n",
       "   'e-www-displaytest',\n",
       "   'e-www-gyroscopetest']},\n",
       " 'batch6': {'apps': ['Room Database Low Frequency',\n",
       "   'Gravity',\n",
       "   'Cpu INTERVAL',\n",
       "   'Camera INTERVAL',\n",
       "   'Display INTERVAL'],\n",
       "  'folder_names': ['e-www-writeroomtest',\n",
       "   'e-www-gravitytest',\n",
       "   'x-intervalapp-cameratest',\n",
       "   'x-intervalapp-cpufactorialtest',\n",
       "   'x-intervalapp-displaytest']}}"
      ]
     },
     "execution_count": 4,
     "metadata": {},
     "output_type": "execute_result"
    }
   ],
   "source": []
  }
 ],
 "metadata": {
  "kernelspec": {
   "display_name": "Python 3",
   "language": "python",
   "name": "python3"
  },
  "language_info": {
   "codemirror_mode": {
    "name": "ipython",
    "version": 3
   },
   "file_extension": ".py",
   "mimetype": "text/x-python",
   "name": "python",
   "nbconvert_exporter": "python",
   "pygments_lexer": "ipython3",
   "version": "3.10.8"
  },
  "orig_nbformat": 4
 },
 "nbformat": 4,
 "nbformat_minor": 2
}
